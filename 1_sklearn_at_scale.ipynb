{
 "cells": [
  {
   "cell_type": "markdown",
   "id": "elegant-basketball",
   "metadata": {},
   "source": [
    "# Notebook 1: scikit-learn at scale\n",
    "\n",
    "The goal of this notebook is to give you a sense of some of the computational limitations one may encounter when training or applying ML models on large scale datasets, as well as to explore some of scikit-learn's tools to improve runtime.\n",
    "\n",
    "__If you are taking this class for credit, you will need to turn in your completed notebook on Campus.__"
   ]
  },
  {
   "cell_type": "markdown",
   "id": "4a8349e8-c2be-41fd-9891-7bd32be57cf1",
   "metadata": {},
   "source": [
    "This notebook was prepared on Jupyter Lab 3.2.9 by [Chloé Azencott](http://cazencott.info), using Python 3.9.7 with `joblib 1.1.0`, `matplotlib 3.5.1`, `numpy 1.21.2`, `scipy 1.7.3`, and `sklearn 1.0.2`."
   ]
  },
  {
   "cell_type": "code",
   "execution_count": 1,
   "id": "willing-london",
   "metadata": {},
   "outputs": [
    {
     "name": "stdout",
     "output_type": "stream",
     "text": [
      "%pylab is deprecated, use %matplotlib inline and import the required libraries.\n",
      "Populating the interactive namespace from numpy and matplotlib\n"
     ]
    }
   ],
   "source": [
    "%pylab inline"
   ]
  },
  {
   "cell_type": "code",
   "execution_count": 2,
   "id": "46b1c4c1-b207-42ee-a157-c4c4c0d960a1",
   "metadata": {},
   "outputs": [],
   "source": [
    "plt.rc('font', **{'size': 12}) # règle la taille de police globalement pour les plots (en pt)"
   ]
  },
  {
   "cell_type": "markdown",
   "id": "exceptional-county",
   "metadata": {},
   "source": [
    "## 1. Data setup"
   ]
  },
  {
   "cell_type": "markdown",
   "id": "hearing-system",
   "metadata": {},
   "source": [
    "We will work with the [Forest Covertypes](https://scikit-learn.org/stable/datasets/real_world.html#forest-covertypes) data set."
   ]
  },
  {
   "cell_type": "code",
   "execution_count": 3,
   "id": "retained-sentence",
   "metadata": {},
   "outputs": [],
   "source": [
    "from sklearn import datasets"
   ]
  },
  {
   "cell_type": "code",
   "execution_count": 4,
   "id": "compliant-invitation",
   "metadata": {},
   "outputs": [],
   "source": [
    "forest_dataset = datasets.fetch_covtype()"
   ]
  },
  {
   "cell_type": "code",
   "execution_count": 5,
   "id": "adolescent-ribbon",
   "metadata": {},
   "outputs": [],
   "source": [
    "X = forest_dataset['data']\n",
    "y = forest_dataset['target']"
   ]
  },
  {
   "cell_type": "code",
   "execution_count": 7,
   "id": "listed-zoning",
   "metadata": {},
   "outputs": [
    {
     "data": {
      "text/plain": [
       "((581012, 54), (581012,))"
      ]
     },
     "execution_count": 7,
     "metadata": {},
     "output_type": "execute_result"
    }
   ],
   "source": [
    "X.shape, y.shape"
   ]
  },
  {
   "cell_type": "code",
   "execution_count": 8,
   "id": "relevant-paragraph",
   "metadata": {},
   "outputs": [],
   "source": [
    "n_samples = X.shape[0]\n",
    "n_features = X.shape[1]"
   ]
  },
  {
   "cell_type": "markdown",
   "id": "together-hometown",
   "metadata": {},
   "source": [
    "#### Creating subsets of varying sample sizes"
   ]
  },
  {
   "cell_type": "markdown",
   "id": "accessible-naples",
   "metadata": {},
   "source": [
    "The data set contains about 500k samples. Let us create subsets of the data, to explore how sample sizes affects complexity. We'll use the `train_test_split` function of sklearn to that effect."
   ]
  },
  {
   "cell_type": "code",
   "execution_count": 9,
   "id": "behavioral-agreement",
   "metadata": {},
   "outputs": [],
   "source": [
    "from sklearn import model_selection"
   ]
  },
  {
   "cell_type": "code",
   "execution_count": 11,
   "id": "close-monitoring",
   "metadata": {},
   "outputs": [],
   "source": [
    "subsample_sizes = [500, 1000, 5000, 10000, 50000, 100000, 200000]\n",
    "subsample_data = {} # key: number of subsamples, value:(X_subsample, y_subsample)\n",
    "for ssize in subsample_sizes:\n",
    "    X_tr, X_te, y_tr, y_te = model_selection.train_test_split(X, y, shuffle=True, random_state=57, stratify=y, train_size=ssize)\n",
    "    subsample_data[ssize] = (X_tr, y_tr)\n",
    "del X_te, y_te\n",
    "\n",
    "# Adding the full data set to the dictionary\n",
    "subsample_data[n_samples] = (X, y)\n",
    "subsample_sizes.append(n_samples)\n",
    "\n",
    "subsample_sizes = np.array(subsample_sizes)"
   ]
  },
  {
   "cell_type": "markdown",
   "id": "353b2a23-f977-4508-a37b-15a6d4d73cb2",
   "metadata": {},
   "source": [
    "__IMPORTANT NOTE:__ If later in the notebook cells are taking too long to run, reduce the values in `subsample_sizes`. For example, consider \n",
    "```python\n",
    "subsample_sizes = [500, 1000, 5000, 10000, 50000, 75000, 100000]\n",
    "```\n",
    "or\n",
    "```python\n",
    "subsample_sizes = [500, 1000, 5000, 10000, 25000, 50000]\n",
    "```"
   ]
  },
  {
   "cell_type": "markdown",
   "id": "aggregate-print",
   "metadata": {},
   "source": [
    "#### Size of each data set in memory"
   ]
  },
  {
   "cell_type": "code",
   "execution_count": 12,
   "id": "5049bfad-f476-4f0f-99c8-46967f5d5d35",
   "metadata": {},
   "outputs": [
    {
     "name": "stdout",
     "output_type": "stream",
     "text": [
      "Dataset with 500 samples takes 2.16e+05 bytes of memory\n",
      "Dataset with 1000 samples takes 4.32e+05 bytes of memory\n",
      "Dataset with 5000 samples takes 2.16e+06 bytes of memory\n",
      "Dataset with 10000 samples takes 4.32e+06 bytes of memory\n",
      "Dataset with 50000 samples takes 2.16e+07 bytes of memory\n",
      "Dataset with 100000 samples takes 4.32e+07 bytes of memory\n",
      "Dataset with 200000 samples takes 8.64e+07 bytes of memory\n",
      "Dataset with 581012 samples takes 2.51e+08 bytes of memory\n"
     ]
    }
   ],
   "source": [
    "for ssize in subsample_sizes:\n",
    "    X_current, y_current = subsample_data[ssize]\n",
    "    print(f\"Dataset with {ssize} samples takes {(X_current.size * X_current.itemsize):.2e} bytes of memory\")"
   ]
  },
  {
   "cell_type": "markdown",
   "id": "colonial-cigarette",
   "metadata": {},
   "source": [
    "Our datasets take from 216 KB to 251 MB of space in memory."
   ]
  },
  {
   "cell_type": "markdown",
   "id": "speaking-newport",
   "metadata": {},
   "source": [
    "## 2. Decision trees"
   ]
  },
  {
   "cell_type": "markdown",
   "id": "leading-costume",
   "metadata": {},
   "source": [
    "### 1.2 Training a decision tree: complexity w.r.t. the number of samples"
   ]
  },
  {
   "cell_type": "markdown",
   "id": "suitable-words",
   "metadata": {},
   "source": [
    "The computational complexity for building a decision tree with CART is about $\\mathcal{O}(p n \\log n)$ if the features are binary and $\\mathcal{O}(p n^2)$. This is in the case where the tree that is built is balanced (about the same number of training samples go to each branch at each node). \n",
    "\n",
    "In the worse case scenario (a single training sample goes to one of the two branches at each node), this complexity becomes $\\mathcal{O}(p n^2)$ if the features are binary and $\\mathcal{O}(p n^3)$ if they are continuous.\n",
    "\n",
    "For details, you can consult [this document](http://cazencott.info/dotclear/public/lectures/Decision_Tree_Complexity.pdf)."
   ]
  },
  {
   "cell_type": "markdown",
   "id": "divided-referral",
   "metadata": {},
   "source": [
    "##### __Question 1__\n",
    "How many of the features are binary? Do you expect the runtime to be loglinear or quadratic in the number of samples?"
   ]
  },
  {
   "cell_type": "code",
   "execution_count": 15,
   "id": "12fb0504",
   "metadata": {},
   "outputs": [],
   "source": [
    "import pandas as pd"
   ]
  },
  {
   "cell_type": "markdown",
   "id": "1f229b9d-851d-4e5d-b060-44e462fc77f4",
   "metadata": {},
   "source": [
    "__Answer:__"
   ]
  },
  {
   "cell_type": "code",
   "execution_count": 39,
   "id": "84238c7d",
   "metadata": {},
   "outputs": [
    {
     "name": "stdout",
     "output_type": "stream",
     "text": [
      "There are 44 binary features in the dataset.\n"
     ]
    }
   ],
   "source": [
    "X_df = pd.DataFrame(X)\n",
    "nb_binary_features = 0\n",
    "for i in range(n_features):\n",
    "    if len(X_df.iloc[:,i].unique())==2:\n",
    "        nb_binary_features += 1\n",
    "        continue\n",
    "        \n",
    "print(f\"There are {nb_binary_features} binary features in the dataset.\")"
   ]
  },
  {
   "attachments": {},
   "cell_type": "markdown",
   "id": "b4693500",
   "metadata": {},
   "source": [
    "We expect the runtime to be O(pnlog(n)) as most features are binary, so loglinear?"
   ]
  },
  {
   "cell_type": "markdown",
   "id": "increasing-guidance",
   "metadata": {},
   "source": [
    "#### Empirical runtime as a function of the number of samples\n",
    "\n",
    "We will now evaluate this runtime empirically, on our subsets of the data."
   ]
  },
  {
   "cell_type": "code",
   "execution_count": 40,
   "id": "binary-savings",
   "metadata": {},
   "outputs": [],
   "source": [
    "import time # to compute runtimes"
   ]
  },
  {
   "cell_type": "code",
   "execution_count": 41,
   "id": "olympic-yahoo",
   "metadata": {},
   "outputs": [],
   "source": [
    "from sklearn import tree "
   ]
  },
  {
   "cell_type": "code",
   "execution_count": 42,
   "id": "moral-marking",
   "metadata": {},
   "outputs": [],
   "source": [
    "runtimes = {} # key: number of subsamples, value: time to train a decision tree with default parameter\n",
    "for ssize in subsample_sizes:\n",
    "    X_current, y_current = subsample_data[ssize]\n",
    "    dt_classifier = tree.DecisionTreeClassifier() # default parameters\n",
    "    \n",
    "    start_time = time.time()\n",
    "    dt_classifier.fit(X_current, y_current)\n",
    "    runtimes[ssize] = time.time() - start_time"
   ]
  },
  {
   "cell_type": "code",
   "execution_count": 43,
   "id": "deadly-cookbook",
   "metadata": {},
   "outputs": [
    {
     "data": {
      "text/plain": [
       "Text(0.5, 1.0, 'Time to train a decision tree')"
      ]
     },
     "execution_count": 43,
     "metadata": {},
     "output_type": "execute_result"
    },
    {
     "data": {
      "image/png": "[encoded data removed]",
      "text/plain": [
       "<Figure size 432x288 with 1 Axes>"
      ]
     },
     "metadata": {
      "needs_background": "light"
     },
     "output_type": "display_data"
    }
   ],
   "source": [
    "plt.plot(subsample_sizes, [runtimes[ssize] for ssize in subsample_sizes], 'o-')\n",
    "plt.xlabel(\"Number of samples\")\n",
    "plt.ylabel(\"Time (s)\")\n",
    "plt.title(\"Time to train a decision tree\")"
   ]
  },
  {
   "cell_type": "markdown",
   "id": "conventional-peoples",
   "metadata": {},
   "source": [
    "To better visualize the first data points, we can switch to a log scale on the x-axis."
   ]
  },
  {
   "cell_type": "code",
   "execution_count": 44,
   "id": "nonprofit-germany",
   "metadata": {},
   "outputs": [
    {
     "data": {
      "text/plain": [
       "Text(0.5, 1.0, 'Time to train a decision tree')"
      ]
     },
     "execution_count": 44,
     "metadata": {},
     "output_type": "execute_result"
    },
    {
     "data": {
      "image/png": "[encoded data removed]",
      "text/plain": [
       "<Figure size 432x288 with 1 Axes>"
      ]
     },
     "metadata": {
      "needs_background": "light"
     },
     "output_type": "display_data"
    }
   ],
   "source": [
    "plt.loglog(subsample_sizes, [runtimes[ssize] for ssize in subsample_sizes], 'o-')\n",
    "plt.xlabel(\"Number of samples (log scale)\")\n",
    "plt.ylabel(\"Time (s, log scale)\")\n",
    "plt.title(\"Time to train a decision tree\")"
   ]
  },
  {
   "cell_type": "markdown",
   "id": "adjustable-kansas",
   "metadata": {},
   "source": [
    "#### Fitting a complexity model\n",
    "\n",
    "It is hard to conclude on the computational complexity of the algorithm in practice from the above plot. In this section, we will check what type of computational complexity function fits our observations best. For this purpose, we'll use the [curve fitting algorithm of `scipy.optimize`](https://docs.scipy.org/doc/scipy/reference/generated/scipy.optimize.curve_fit.html)."
   ]
  },
  {
   "cell_type": "code",
   "execution_count": 45,
   "id": "plain-relation",
   "metadata": {},
   "outputs": [],
   "source": [
    "from scipy import optimize"
   ]
  },
  {
   "cell_type": "markdown",
   "id": "embedded-tragedy",
   "metadata": {},
   "source": [
    "Let us define now 3 types of computational complexities we are willing to consider:"
   ]
  },
  {
   "cell_type": "code",
   "execution_count": 46,
   "id": "dramatic-treat",
   "metadata": {},
   "outputs": [],
   "source": [
    "def f_linear(n, a):\n",
    "    \"\"\"Linear complexity\"\"\"\n",
    "    return (a * n)"
   ]
  },
  {
   "cell_type": "code",
   "execution_count": 47,
   "id": "formed-parliament",
   "metadata": {},
   "outputs": [],
   "source": [
    "def f_loglinear(n, a):\n",
    "    \"\"\"Loglinear complexity\"\"\"\n",
    "    return (a * n * np.log2(n))"
   ]
  },
  {
   "cell_type": "code",
   "execution_count": 48,
   "id": "overhead-builder",
   "metadata": {},
   "outputs": [],
   "source": [
    "def f_quadratic(n, a):\n",
    "    \"\"\"Quadratic complexity\"\"\"\n",
    "    return (a * n**2)"
   ]
  },
  {
   "cell_type": "markdown",
   "id": "practical-millennium",
   "metadata": {},
   "source": [
    "Now we use `curve_fit` to fit the data to the models. What is happening under the hood is an ordinary least squares approach (minimization of the sum of squares)."
   ]
  },
  {
   "cell_type": "code",
   "execution_count": 49,
   "id": "worldwide-orleans",
   "metadata": {},
   "outputs": [],
   "source": [
    "p_opt_linear, p_cov = optimize.curve_fit(f_linear, subsample_sizes, [runtimes[ssize] for ssize in subsample_sizes])\n",
    "p_opt_loglinear, p_cov = optimize.curve_fit(f_loglinear, subsample_sizes, [runtimes[ssize] for ssize in subsample_sizes])\n",
    "p_opt_quadratic, p_cov = optimize.curve_fit(f_quadratic, subsample_sizes, [runtimes[ssize] for ssize in subsample_sizes])"
   ]
  },
  {
   "cell_type": "markdown",
   "id": "median-category",
   "metadata": {},
   "source": [
    "And now we plot the learned models as well as the observed runtimes."
   ]
  },
  {
   "cell_type": "code",
   "execution_count": 50,
   "id": "inappropriate-palestinian",
   "metadata": {},
   "outputs": [
    {
     "data": {
      "image/png": "[encoded data removed]",
      "text/plain": [
       "<Figure size 720x288 with 2 Axes>"
      ]
     },
     "metadata": {
      "needs_background": "light"
     },
     "output_type": "display_data"
    }
   ],
   "source": [
    "fig = plt.figure(figsize=(10, 4))\n",
    "\n",
    "# Linear axes\n",
    "plt.subplot(1, 2, 1) # grid 1x2 subplots, subplot 1\n",
    "plt.plot(subsample_sizes, [runtimes[ssize] for ssize in subsample_sizes], 'o-', label=\"empirical runtimes\")\n",
    "plt.plot(subsample_sizes, f_loglinear(subsample_sizes, p_opt_loglinear[0]), 'v-', label=\"loglinear fit\")\n",
    "plt.plot(subsample_sizes, f_linear(subsample_sizes, p_opt_linear[0]), 'd-', label=\"linear fit\")\n",
    "plt.plot(subsample_sizes, f_quadratic(subsample_sizes, p_opt_quadratic[0]), 'x-', label=\"quadratic fit\")\n",
    "\n",
    "plt.xlabel(\"Number of samples\")\n",
    "plt.ylabel(\"Time (s)\")\n",
    "plt.title(\"Empirical fits of runtimes\")\n",
    "plt.legend()\n",
    "\n",
    "# Log axes\n",
    "plt.subplot(1, 2, 2) # grid 1x2 subplots, subplot 2\n",
    "plt.loglog(subsample_sizes, [runtimes[ssize] for ssize in subsample_sizes], 'o-', label=\"empirical runtimes\")\n",
    "plt.loglog(subsample_sizes, f_loglinear(subsample_sizes, p_opt_loglinear[0]), 'v-', label=\"loglinear fit\")\n",
    "plt.loglog(subsample_sizes, f_linear(subsample_sizes, p_opt_linear[0]), 'd-', label=\"linear fit\")\n",
    "plt.loglog(subsample_sizes, f_quadratic(subsample_sizes, p_opt_quadratic[0]), 'x-', label=\"quadratic fit\")\n",
    "\n",
    "plt.xlabel(\"Number of samples (log scale)\")\n",
    "plt.ylabel(\"Time (s, log scale)\")\n",
    "plt.title(\"Empirical fits of runtimes\")\n",
    "plt.legend()\n",
    "\n",
    "# Adjust spacing between plots\n",
    "fig.tight_layout()"
   ]
  },
  {
   "cell_type": "markdown",
   "id": "adopted-macintosh",
   "metadata": {},
   "source": [
    "##### __Question 2__ \n",
    "Is the relationship between the time required to train a decision tree and the number of samples linear? loglinear? quadratic? Does this match your expectations?"
   ]
  },
  {
   "attachments": {},
   "cell_type": "markdown",
   "id": "6a8db873-c27f-492d-8bdb-c46cc7bc0a1e",
   "metadata": {},
   "source": [
    "__Answer:__ According to these graphs, we can see that the relationship between the time required to train a decision tree and the number of samples is loglinear. Even though our first point follows a linear fit, it might be due to the small number of samples it has. For larger number of samples, it follows a loglinear fit. It matches our expectations : we have 54 features and 44 of them are binary. So we expected this type of relationship."
   ]
  },
  {
   "cell_type": "markdown",
   "id": "caroline-beginning",
   "metadata": {},
   "source": [
    "#### Size of a tree in memory"
   ]
  },
  {
   "cell_type": "markdown",
   "id": "superb-world",
   "metadata": {},
   "source": [
    "We will now use `joblib` to save estimators to disk and see how much space the models take to store.\n",
    "\n",
    "You can read more about `joblib` [here](https://joblib.readthedocs.io/en/latest/), and about *model persistence* (ie. how to save a trained model) in scikit-learn [here](https://scikit-learn.org/stable/modules/model_persistence.html).\n",
    "\n",
    "If `joblib` isn't installed on your system, you should be able to install it with `conda install joblib`."
   ]
  },
  {
   "cell_type": "code",
   "execution_count": 51,
   "id": "known-calibration",
   "metadata": {},
   "outputs": [],
   "source": [
    "import joblib\n",
    "import os"
   ]
  },
  {
   "cell_type": "code",
   "execution_count": 52,
   "id": "turned-background",
   "metadata": {},
   "outputs": [
    {
     "name": "stdout",
     "output_type": "stream",
     "text": [
      "Tree size: 2.71e+04 bytes\n",
      "Tree size: 4.93e+04 bytes\n",
      "Tree size: 2.01e+05 bytes\n",
      "Tree size: 3.69e+05 bytes\n",
      "Tree size: 1.31e+06 bytes\n",
      "Tree size: 2.11e+06 bytes\n",
      "Tree size: 3.25e+06 bytes\n",
      "Tree size: 6.18e+06 bytes\n"
     ]
    }
   ],
   "source": [
    "tree_joblib_size = {} # key: number of subsamples, value: size of file on disk\n",
    "for ssize in subsample_sizes:\n",
    "    X_current, y_current = subsample_data[ssize]\n",
    "    dt_classifier = tree.DecisionTreeClassifier() # default parameters\n",
    "    dt_classifier.fit(X_current, y_current)\n",
    "    file_name = \"dt_classifier_%d.joblib\" % ssize\n",
    "    joblib.dump(dt_classifier, file_name)\n",
    "    print(\"Tree size: %.2e bytes\" % os.path.getsize(file_name))\n",
    "    tree_joblib_size[ssize] = os.path.getsize(file_name)"
   ]
  },
  {
   "cell_type": "markdown",
   "id": "computational-territory",
   "metadata": {},
   "source": [
    "##### __Question 3__ \n",
    "Complete the code below to plot, as a function of the number of samples, the size in bytes of 1) the data set and 2) the model file."
   ]
  },
  {
   "cell_type": "code",
   "execution_count": 62,
   "id": "17b0206b",
   "metadata": {},
   "outputs": [
    {
     "data": {
      "text/plain": [
       "[(500, 27076),\n",
       " (1000, 49255),\n",
       " (5000, 200679),\n",
       " (10000, 368903),\n",
       " (50000, 1311271),\n",
       " (100000, 2110055),\n",
       " (200000, 3250663),\n",
       " (581012, 6176327)]"
      ]
     },
     "execution_count": 62,
     "metadata": {},
     "output_type": "execute_result"
    }
   ],
   "source": [
    "list(tree_joblib_size.items())"
   ]
  },
  {
   "cell_type": "code",
   "execution_count": 66,
   "id": "brave-briefs",
   "metadata": {},
   "outputs": [
    {
     "data": {
      "text/plain": [
       "<matplotlib.legend.Legend at 0x1c90e7f26a0>"
      ]
     },
     "execution_count": 66,
     "metadata": {},
     "output_type": "execute_result"
    },
    {
     "data": {
      "image/png": "[encoded data removed]",
      "text/plain": [
       "<Figure size 432x288 with 1 Axes>"
      ]
     },
     "metadata": {
      "needs_background": "light"
     },
     "output_type": "display_data"
    }
   ],
   "source": [
    "plt.loglog(subsample_sizes, list(tree_joblib_size.keys()), #NOT SURE? I WANT TO HAVE THE DATASET SIZES\n",
    "           'o-', label='Dataset size')\n",
    "plt.loglog(subsample_sizes, list(tree_joblib_size.values()), \n",
    "           'v-', label='Model size')\n",
    "\n",
    "plt.xlabel(\"Number of samples (log scale)\")\n",
    "plt.ylabel(\"Size in bytes (log scale)\")\n",
    "plt.title(\"Sizes of models and datasets\")\n",
    "plt.legend()"
   ]
  },
  {
   "attachments": {
    "567a50c8-7e3b-4e45-8910-bde5e19de09d.png": {
     "image/png": "[encoded data removed]"
    }
   },
   "cell_type": "markdown",
   "id": "talented-orchestra",
   "metadata": {},
   "source": [
    "You can check that the sizes you have computed match those given by your operating system.\n",
    "\n",
    "For example, here's a screenshot of my file manager (for the folder in which I am running the notebook):\n",
    "\n",
    "![image.png](attachment:567a50c8-7e3b-4e45-8910-bde5e19de09d.png)\n",
    "\n",
    "Note that my file system gives file sizes in KiB and MiB (1 KiB = $2^{10}$ B = 1024 B) and not KB and MB (1 KB = $10^3$ B = 1000 B). "
   ]
  },
  {
   "cell_type": "markdown",
   "id": "eea72112-7d8d-4ae4-a36b-1854b0b93b34",
   "metadata": {},
   "source": [
    "__Comment:__"
   ]
  },
  {
   "cell_type": "markdown",
   "id": "polish-leeds",
   "metadata": {},
   "source": [
    "You can now remove the joblib files with the following command:"
   ]
  },
  {
   "cell_type": "code",
   "execution_count": 67,
   "id": "smart-charger",
   "metadata": {},
   "outputs": [],
   "source": [
    "for ssize in subsample_sizes:\n",
    "    file_name = \"dt_classifier_%d.joblib\" % ssize\n",
    "    os.remove(file_name)"
   ]
  },
  {
   "cell_type": "markdown",
   "id": "great-organizer",
   "metadata": {},
   "source": [
    "#### Limiting the depth of the tree"
   ]
  },
  {
   "cell_type": "markdown",
   "id": "yellow-sacrifice",
   "metadata": {},
   "source": [
    "##### __Question 4__ \n",
    "Using the `max_depth` parameter of `DecisionTreeClassifier` to limit the depth of the learned decision tree, evaluate again:\n",
    "* the runtime, as a function of the number of samples, of training a decision tree of maximum depth 4 \n",
    "* the space taken in memory by such a model, as a function of the number of samples.\n",
    "\n",
    "Compare with the previous section."
   ]
  },
  {
   "cell_type": "code",
   "execution_count": null,
   "id": "4e2a218e-f490-45b4-b373-8f2ae92edbff",
   "metadata": {},
   "outputs": [],
   "source": [
    "### TODO"
   ]
  },
  {
   "cell_type": "markdown",
   "id": "b91266ca-893c-456f-8bdf-28f0ef6c4a6d",
   "metadata": {},
   "source": [
    "__Comment:__"
   ]
  },
  {
   "cell_type": "markdown",
   "id": "exotic-cover",
   "metadata": {},
   "source": [
    "#### Impact of limiting the depth of the tree on tree performance."
   ]
  },
  {
   "cell_type": "markdown",
   "id": "accurate-wheel",
   "metadata": {},
   "source": [
    "##### __Question 5__ \n",
    "Using [`sklearn.model_selection.cross_val_score`](https://scikit-learn.org/stable/modules/generated/sklearn.model_selection.cross_val_score.html?highlight=cross_val_score#sklearn.model_selection.cross_val_score), complete the code below to compute and compare the 5-fold cross-validated [balanced accuracy](https://scikit-learn.org/stable/modules/generated/sklearn.metrics.balanced_accuracy_score.html#sklearn.metrics.balanced_accuracy_score) of all these decision trees (with/without limiting depth, for all sample sizes). "
   ]
  },
  {
   "cell_type": "code",
   "execution_count": null,
   "id": "stupid-emperor",
   "metadata": {},
   "outputs": [],
   "source": [
    "from sklearn import model_selection"
   ]
  },
  {
   "cell_type": "code",
   "execution_count": null,
   "id": "solid-parliament",
   "metadata": {},
   "outputs": [],
   "source": [
    "cv_scores_default = {} # key: number of subsamples, value: 5-fold cv balanced accuracy\n",
    "cv_scores_depth4 = {} # key: number of subsamples, value: 5-fold cv balanced accuracy\n",
    "\n",
    "for ssize in subsample_sizes:\n",
    "    X_current, y_current = subsample_data[ssize]\n",
    "    dt_classifier = tree.DecisionTreeClassifier() # default parameters\n",
    "    cv_scores_default[ssize] = # TO COMPLETE    \n",
    "    \n",
    "    dt_classifier = tree.DecisionTreeClassifier(max_depth=4) # default parameters\n",
    "    cv_scores_depth4[ssize] = # TO COMPLETE"
   ]
  },
  {
   "cell_type": "code",
   "execution_count": null,
   "id": "forward-spain",
   "metadata": {},
   "outputs": [],
   "source": [
    "plt.errorbar(subsample_sizes, [np.mean(cv_scores_default[ssize]) for ssize in subsample_sizes], \n",
    "             yerr=[np.std(cv_scores_default[ssize]) for ssize in subsample_sizes], label='Default')\n",
    "plt.errorbar(subsample_sizes, [np.mean(cv_scores_depth4[ssize]) for ssize in subsample_sizes],\n",
    "             yerr=[np.std(cv_scores_depth4[ssize]) for ssize in subsample_sizes], label='Max depth = 4')\n",
    "\n",
    "plt.xlabel(\"Number of samples (log scale)\")\n",
    "plt.ylabel(\"Balanced accuracy\")\n",
    "plt.title(\"Cross-validated performance of various decision trees\")\n",
    "\n",
    "plt.xscale(\"log\")\n",
    "\n",
    "plt.legend()"
   ]
  },
  {
   "cell_type": "markdown",
   "id": "f843a126-a722-4474-b164-e5bd3361b280",
   "metadata": {},
   "source": [
    "__Comment:__"
   ]
  },
  {
   "cell_type": "markdown",
   "id": "incomplete-virginia",
   "metadata": {
    "tags": []
   },
   "source": [
    "##### __Question 6__ \n",
    "* How does limiting the depth of the tree affect performance? \n",
    "* Was this expected? \n",
    "* Comment this result knowing that our ultimate goal is to train random forests."
   ]
  },
  {
   "cell_type": "code",
   "execution_count": null,
   "id": "89aedb33-f87a-4765-b8d4-05a23d894c72",
   "metadata": {},
   "outputs": [],
   "source": [
    "### TODO"
   ]
  },
  {
   "cell_type": "markdown",
   "id": "d5eea9e7-e141-4bc2-bfe7-c0ea9e8b281f",
   "metadata": {},
   "source": [
    "__Comment:__"
   ]
  },
  {
   "cell_type": "markdown",
   "id": "vanilla-representation",
   "metadata": {},
   "source": [
    "### 1.3 Computational complexity of a decision tree (with respect to the number of features)"
   ]
  },
  {
   "cell_type": "markdown",
   "id": "starting-produce",
   "metadata": {},
   "source": [
    "Here we'll work with the data set that has 10,000 samples (to avoid longer runtimes on the full data set) and change the number of features. If 10,000 samples takes too long to process on your data set, use a smaller dataset."
   ]
  },
  {
   "cell_type": "markdown",
   "id": "adult-northern",
   "metadata": {},
   "source": [
    "#### Creating subsets of varying numbers of features"
   ]
  },
  {
   "cell_type": "markdown",
   "id": "false-amber",
   "metadata": {},
   "source": [
    "Here we will merely add random binary features to the data. They will not be useful, but the algorithm will still have to explore them to know that."
   ]
  },
  {
   "cell_type": "code",
   "execution_count": null,
   "id": "collected-vanilla",
   "metadata": {},
   "outputs": [],
   "source": [
    "n_subsamples = int(1e4)\n",
    "X_current, y_current = subsample_data[n_subsamples]"
   ]
  },
  {
   "cell_type": "markdown",
   "id": "under-teens",
   "metadata": {},
   "source": [
    "Let us now define a list of feature numbers."
   ]
  },
  {
   "cell_type": "code",
   "execution_count": null,
   "id": "honest-regard",
   "metadata": {},
   "outputs": [],
   "source": [
    "feature_numbers = [n_features, 100, 500, 1000, 1500] # You can change the values here \n",
    "feature_numbers = np.array(feature_numbers)"
   ]
  },
  {
   "cell_type": "markdown",
   "id": "general-france",
   "metadata": {},
   "source": [
    "Now we create the copies of the dataset \"augmented\" with bogus binary features."
   ]
  },
  {
   "cell_type": "code",
   "execution_count": null,
   "id": "linear-essence",
   "metadata": {},
   "outputs": [],
   "source": [
    "augmented_data = {} #key: number of features, value: X_augmented\n",
    "augmented_data[n_features] = X_current\n",
    "for fnum in feature_numbers[1:]:\n",
    "    # Create an array of random binary features\n",
    "    X_aug = np.random.randint(2, size=(n_subsamples, fnum))\n",
    "    # Fill the first 54 columns with the true data\n",
    "    X_aug[:, :n_features] = X_current        \n",
    "    augmented_data[fnum] = X_aug"
   ]
  },
  {
   "cell_type": "markdown",
   "id": "mobile-artist",
   "metadata": {},
   "source": [
    "#### Size of each data set in memory"
   ]
  },
  {
   "cell_type": "markdown",
   "id": "starting-aside",
   "metadata": {},
   "source": [
    "##### __Question 7__ \n",
    "Compute the sizes of each data set in bytes."
   ]
  },
  {
   "cell_type": "code",
   "execution_count": null,
   "id": "2409d5ba-6304-48ee-8b5c-49493fabaf5a",
   "metadata": {},
   "outputs": [],
   "source": [
    "### TODO"
   ]
  },
  {
   "cell_type": "markdown",
   "id": "2ed5f5b7-c241-4c4c-ab87-461df9b5e866",
   "metadata": {},
   "source": [
    "__Comment:__"
   ]
  },
  {
   "cell_type": "markdown",
   "id": "negative-jewel",
   "metadata": {},
   "source": [
    "#### Tree complexity as a function of the number of features"
   ]
  },
  {
   "cell_type": "markdown",
   "id": "israeli-witness",
   "metadata": {},
   "source": [
    "##### __Question 8__ \n",
    "Compute and plot\n",
    "* the runtime, as a function of the number of features, of training a decision tree with no limit on the depth\n",
    "* the space taken in memory by the model, as a function of the number of features\n",
    "* the runtime, as a function of the number of features, of training a decision tree of maximum depth 4 \n",
    "* the space taken in memory by the model, as a function of the number of features."
   ]
  },
  {
   "cell_type": "code",
   "execution_count": null,
   "id": "b9966025-abb7-43f4-a626-3bda70609167",
   "metadata": {},
   "outputs": [],
   "source": [
    "### TODO"
   ]
  },
  {
   "cell_type": "markdown",
   "id": "7f197006-b6b8-4956-87c6-39c8b3b180b3",
   "metadata": {},
   "source": [
    "__Comment:__"
   ]
  },
  {
   "cell_type": "markdown",
   "id": "instant-boating",
   "metadata": {},
   "source": [
    "##### __Question 9__ \n",
    "* What is the relationship (logistic, linear, loglinear, quadratic, etc.) between the number of features and the runtime? \n",
    "* Does it match your expectations?"
   ]
  },
  {
   "cell_type": "code",
   "execution_count": null,
   "id": "21431856-4661-429c-b81e-2927d17a9f11",
   "metadata": {},
   "outputs": [],
   "source": [
    "### TODO"
   ]
  },
  {
   "cell_type": "markdown",
   "id": "1840aab3-7a80-4170-baa1-b4b0b0a6cf1e",
   "metadata": {},
   "source": [
    "__Comment:__"
   ]
  },
  {
   "cell_type": "markdown",
   "id": "alpha-teddy",
   "metadata": {},
   "source": [
    "## 3. Random forests"
   ]
  },
  {
   "cell_type": "markdown",
   "id": "unavailable-integration",
   "metadata": {},
   "source": [
    "### 3.1 Complexity of training a random forest\n",
    "\n",
    "Training a random forest is done by constructing `n_trees` decision trees, each trained on a data set constructing by\n",
    "* subsampling the observations; typically, this is done with bootstrap sampling, where $n$ observations are sampled *with replacement* (i.e. some will be sampled several times and others never, resulting in approximately selecting 2/3 of the samples);\n",
    "* subsampling the features; typically, this is done by randomly sampling $p$ features."
   ]
  },
  {
   "cell_type": "markdown",
   "id": "heavy-holder",
   "metadata": {
    "tags": []
   },
   "source": [
    "##### __Question 10__ \n",
    "* What do you expect the time complexity of training __one__ of the decision trees of a random forest?\n",
    "* How much time do you expect training a random forest of 100 trees on the full data set will take if you're not limiting tree depth? If you're limiting tree depth?\n",
    "* How much space do you expect that random forest model to take in memory if you're not limiting tree depth? If you're limiting tree depth?"
   ]
  },
  {
   "cell_type": "markdown",
   "id": "cf263163-1269-4251-a0e4-b93adffc8d98",
   "metadata": {},
   "source": [
    "__Answer:__"
   ]
  },
  {
   "cell_type": "markdown",
   "id": "balanced-worth",
   "metadata": {
    "tags": []
   },
   "source": [
    "##### __Question 11__ \n",
    "* Set up an experiment to verify this complexity using the [`sklearn.ensemble.RandomForestClassifier`](https://scikit-learn.org/stable/modules/generated/sklearn.ensemble.RandomForestClassifier.html#sklearn.ensemble.RandomForestClassifier) class. Use at least 100 trees in your random forest. \n",
    "Make sure to use the training times you have observed before to decide on the numbers of samples to use. Do not limit tree depth. Do the numbers match your expectations?\n",
    "* How much space do your trained random forests take in memory? Does this match your expectations?"
   ]
  },
  {
   "cell_type": "code",
   "execution_count": null,
   "id": "illegal-polish",
   "metadata": {},
   "outputs": [],
   "source": [
    "from sklearn import ensemble"
   ]
  },
  {
   "cell_type": "code",
   "execution_count": null,
   "id": "61825540-801e-41ef-9a9c-3897de110161",
   "metadata": {},
   "outputs": [],
   "source": [
    "### TODO"
   ]
  },
  {
   "cell_type": "markdown",
   "id": "a2951862-2f75-44e4-9332-86e49f0042b0",
   "metadata": {},
   "source": [
    "__Comment:__"
   ]
  },
  {
   "cell_type": "markdown",
   "id": "constant-liberal",
   "metadata": {},
   "source": [
    "### 3.2 Prediction latency\n",
    "\n",
    "Doing predictions in bulk (many samples at the same time) rather than one sample at a time is more efficient. This is due to several reasons, that include CPU caching and [branch prediction](https://en.wikipedia.org/wiki/Branch_predictor). For many models, this can also be due to the efficiency of linear algebra libraries."
   ]
  },
  {
   "cell_type": "markdown",
   "id": "infectious-norway",
   "metadata": {},
   "source": [
    "Here is an example for one random forest, trained on 5,000 samples, with 100 trees:"
   ]
  },
  {
   "cell_type": "code",
   "execution_count": null,
   "id": "minor-footage",
   "metadata": {},
   "outputs": [],
   "source": [
    "ssize = 5000\n",
    "X_current, y_current = subsample_data[ssize]\n",
    "rf_classifier = ensemble.RandomForestClassifier(max_depth=4)\n",
    "\n",
    "# Training\n",
    "rf_classifier.fit(X_current, y_current)\n",
    "\n",
    "# Predicting on 1 sample\n",
    "start_time = time.time()\n",
    "rf_classifier.predict(X_current[:1, :])\n",
    "mytime = time.time() - start_time\n",
    "print(\"Time to predict on one sample: %.3f s\" % (mytime))\n",
    "print(\"Time to predict on one sample (x %d): %.2f s\" % (ssize, (mytime * ssize)))\n",
    "\n",
    "# Predicting on 5000 samples\n",
    "start_time = time.time()\n",
    "rf_classifier.predict(X_current)\n",
    "print(\"Time to predict on %d samples: %.2f s\" % (ssize, (time.time() - start_time)))"
   ]
  },
  {
   "cell_type": "markdown",
   "id": "acquired-pattern",
   "metadata": {
    "tags": []
   },
   "source": [
    "##### __Question 12__ \n",
    "For several values of n, compare the time it takes to predict on n samples to n times the time it takes to predict on 1 sample. Produce a plot."
   ]
  },
  {
   "cell_type": "code",
   "execution_count": null,
   "id": "f85c8e3e-c260-444a-9502-98672c730da0",
   "metadata": {},
   "outputs": [],
   "source": [
    "### TODO"
   ]
  },
  {
   "cell_type": "markdown",
   "id": "e2645f46-195c-4d37-914a-20369214f92b",
   "metadata": {},
   "source": [
    "__Comment:__"
   ]
  },
  {
   "cell_type": "markdown",
   "id": "protected-january",
   "metadata": {},
   "source": [
    "### 3.3 Parallelization"
   ]
  },
  {
   "cell_type": "markdown",
   "id": "unnecessary-immunology",
   "metadata": {},
   "source": [
    "Random forests are embarassingly parallel, meaning that very little effort is required to parallelize them: all of the decision trees that compose it can be trained and applied independently from each other. If your machine has several computing cores, each of them can be used to compute some trees in parallel. `scikit-learn` facilitates this with the `n_jobs` parameter of the `RandomForestClassifier` class."
   ]
  },
  {
   "cell_type": "markdown",
   "id": "quality-semiconductor",
   "metadata": {
    "tags": []
   },
   "source": [
    "##### __Question 13__ \n",
    "* Compare the runtime of training a random forest using a single core (`n_jobs=None`, default), using two cores (`n_jobs=2`), and using as many cores as possible (`n_jobs=-1`). You are free to choose wether you're limiting depth or not, how many samples you use, and so on.\n",
    "* Do the results match your expectations?"
   ]
  },
  {
   "cell_type": "code",
   "execution_count": null,
   "id": "06b1a527-67c7-4736-bc88-258865d2cd88",
   "metadata": {},
   "outputs": [],
   "source": [
    "### TODO"
   ]
  },
  {
   "cell_type": "markdown",
   "id": "69a94c06-55d6-440d-b088-8061c85a8b35",
   "metadata": {},
   "source": [
    "__Comment:__"
   ]
  },
  {
   "cell_type": "markdown",
   "id": "entitled-marijuana",
   "metadata": {},
   "source": [
    "## 4. (Optional) Incremental PCA\n",
    "\n",
    "Another technique to reduce computation overheads is `incremental learning`, or `mini-batch learning`, or `online learning`. The idea here is to process only a small number of samples at once (one such set of samples is called a batch). This is typically how neural networks are trained, with gradient updates computed sample per sample or mini-batch per mini-batch.\n",
    " \n",
    "The technique can also be applied to other examples, such as Principal Component Analysis. The principle is described in [Weng et al. (2003), *Candid Covariance-Free IncrementalPrincipal Component Analysis*, TPAMI](http://www.cse.msu.edu/~weng/research/CCIPCApami.pdf). Here we will focus on observing its effects on efficiency.\n",
    "\n",
    "Note that there's a variant of random forests, called Mondrian forests, that allows for online learning, but it is not yet mainstream and it is not implemented in scikit-learn. See [Lakshminarayanan et al. (20140, *Mondrian Forests: Efficient Online Random Forests*, NeurIPS](https://papers.nips.cc/paper/2014/hash/d1dc3a8270a6f9394f88847d7f0050cf-Abstract.html) for classification and [Lakshminarayanan et al. (2016) *Mondrian Forests for Large-Scale Regression when Uncertainty Matters*, AISTATS](http://proceedings.mlr.press/v51/lakshminarayanan16.html) for regression."
   ]
  },
  {
   "cell_type": "markdown",
   "id": "curious-investment",
   "metadata": {},
   "source": [
    "#### Memory profiling\n",
    "\n",
    "Profiling memory usage in a Jupyter notebook can be done thanks to the magic `%memit`.\n",
    "\n",
    "In order to use it, you may need to install [`memory_profiler`](https://pypi.org/project/memory-profiler/) with `conda install memory_profiler`.\n",
    "\n",
    "Here we'll just test this is working:"
   ]
  },
  {
   "cell_type": "code",
   "execution_count": null,
   "id": "solid-words",
   "metadata": {},
   "outputs": [],
   "source": [
    "%load_ext memory_profiler"
   ]
  },
  {
   "cell_type": "code",
   "execution_count": null,
   "id": "incomplete-potter",
   "metadata": {},
   "outputs": [],
   "source": [
    "%memit print(\"Hello World\")"
   ]
  },
  {
   "cell_type": "markdown",
   "id": "contemporary-murder",
   "metadata": {},
   "source": [
    "Notice that the code was run several times to obtain the estimate.\n",
    "\n",
    "`peak memory` is the total memory usage of your system, including that consumed by running the profiled command. Although this is informative, and can tell you how close you are of running out of memory to run your code, what we're interested in here is `increment`, which tells you by how much global memory usage increased with respect to the memory usage just before running the profiled command."
   ]
  },
  {
   "cell_type": "markdown",
   "id": "breeding-diana",
   "metadata": {},
   "source": [
    "#### PCA vs IPCA\n",
    "\n",
    "The following code can be used to compare classical PCA and incremental PCA with batch size 10 on one of our data sets (with 1500 features). "
   ]
  },
  {
   "cell_type": "code",
   "execution_count": null,
   "id": "blond-location",
   "metadata": {},
   "outputs": [],
   "source": [
    "from sklearn import decomposition"
   ]
  },
  {
   "cell_type": "code",
   "execution_count": null,
   "id": "valid-liverpool",
   "metadata": {},
   "outputs": [],
   "source": [
    "fnum = 1000\n",
    "n_subsamples = int(1e4)\n",
    "X_current, y_current = subsample_data[n_subsamples]\n",
    "X_current = augmented_data[fnum]\n",
    "\n",
    "n_components = 2 # number of principal components to compute"
   ]
  },
  {
   "cell_type": "code",
   "execution_count": null,
   "id": "cordless-nicaragua",
   "metadata": {},
   "outputs": [],
   "source": [
    "# Classical PCA\n",
    "pca = decomposition.PCA(n_components=n_components)\n",
    "\n",
    "# Timing the run\n",
    "start_time = time.time()\n",
    "X_pca = pca.fit_transform(X_current)\n",
    "mytime = time.time() - start_time\n",
    "print(\"Time to run classical PCA: %.3f s\" % (mytime))\n",
    "\n",
    "# Evaluating memory usage\n",
    "%memit X_pca = pca.fit_transform(X_current)"
   ]
  },
  {
   "cell_type": "code",
   "execution_count": null,
   "id": "sexual-laptop",
   "metadata": {},
   "outputs": [],
   "source": [
    "# Incremental PCA\n",
    "ipca = decomposition.IncrementalPCA(n_components=n_components, batch_size=10)\n",
    "\n",
    "# Timing the run\n",
    "start_time = time.time()\n",
    "X_ipca = ipca.fit_transform(X_current)\n",
    "mytime = time.time() - start_time\n",
    "print(\"Time to run incremental PCA: %.3f s\" % (mytime))\n",
    "\n",
    "# Evaluating memory usage\n",
    "%memit X_ipca = ipca.fit_transform(X_current)"
   ]
  },
  {
   "cell_type": "markdown",
   "id": "biblical-sunday",
   "metadata": {},
   "source": [
    "__Questions:__\n",
    "* Compare the two approaches in terms of runtime and memory consumption.\n",
    "* Do you expect the number of samples or the number of features to have the largest impact on memory consumption for PCA? On runtime?"
   ]
  },
  {
   "cell_type": "markdown",
   "id": "funky-marathon",
   "metadata": {},
   "source": [
    "__Instructions:__ \n",
    "* Evaluate the impact of the batch size on both the runtime and the memory consumption of iterative PCA. \n",
    "* Optionally, evaluate how runtime and memory consumption vary as a function of number of features and/or number of samples."
   ]
  },
  {
   "cell_type": "markdown",
   "id": "rapid-committee",
   "metadata": {},
   "source": [
    "The following code allows you to plot the data projected onto the 2 PCs computed by PCA, on the one hand, and iterative PCA, on the other hand. "
   ]
  },
  {
   "cell_type": "code",
   "execution_count": null,
   "id": "subject-turtle",
   "metadata": {},
   "outputs": [],
   "source": [
    "fig, axs = plt.subplots(1, 2, figsize=(11, 4))\n",
    "\n",
    "# Custom color map with 7 discrete values\n",
    "base_cmap = plt.cm.get_cmap('tab10')\n",
    "color_list = base_cmap(np.linspace(0, 1, 7))\n",
    "custom_cmap = matplotlib.colors.LinearSegmentedColormap.from_list('tab10_7', color_list, N=7)\n",
    "plt.cm.register_cmap(name='tab10_7', cmap=custom_cmap)\n",
    "plt.set_cmap('tab10_7')\n",
    "\n",
    "# Projection on the PCs computed by classical PCA\n",
    "axs[0].scatter(X_pca[:, 0], X_pca[:, 1], c=y_current, marker='o')\n",
    "axs[0].set_aspect(1.)\n",
    "axs[0].set_xlabel(\"PC1\")\n",
    "axs[0].set_ylabel(\"PC2\")\n",
    "axs[0].set_title(\"Classical PCA\")\n",
    "\n",
    "# Projection on the PCs computed by incremental PCA\n",
    "ppp = axs[1].scatter(X_ipca[:, 0], X_ipca[:, 1], c=y_current, marker='v')\n",
    "axs[1].set_aspect(1.)\n",
    "axs[1].set_xlabel(\"PC1\")\n",
    "axs[1].set_ylabel(\"PC2\")\n",
    "axs[1].set_title(\"Incremental PCA\")\n",
    "\n",
    "# Adjust space between plots\n",
    "fig.subplots_adjust(wspace=.4)\n",
    "\n",
    "# Colorbar\n",
    "fig.colorbar(ppp, ax=axs, label=\"class\")"
   ]
  },
  {
   "cell_type": "markdown",
   "id": "graduate-strategy",
   "metadata": {},
   "source": [
    "__Question__ How much did using incremental PCA affect the output of the algorithm?"
   ]
  },
  {
   "cell_type": "markdown",
   "id": "exotic-inside",
   "metadata": {
    "tags": []
   },
   "source": [
    "## 5. (Optional) Support Vector Machines\n",
    "\n",
    "__(Optional) Instructions:__ \n",
    "Analyze the runtime and memory usage of training an SVM, as well as the space of the model in memory, for varying numbers of samples and features, in the three following variations:\n",
    "* Linear SVM, optimized via the primal\n",
    "* Linear SVM, optimized via the dual\n",
    "* Kernel SVM.\n",
    "\n",
    "Compare to theoretical complexities."
   ]
  },
  {
   "cell_type": "markdown",
   "id": "f37d59fd-502d-4436-9443-29ace1c11915",
   "metadata": {},
   "source": [
    "## 6. (Optional) Decision tree depth and number of nodes"
   ]
  },
  {
   "cell_type": "markdown",
   "id": "0ea2ecf9-7943-4626-8a85-dbee6a3707f9",
   "metadata": {},
   "source": [
    "This section complements Section 1.2"
   ]
  },
  {
   "cell_type": "markdown",
   "id": "e46157a6-30dd-4eb9-b815-45c2475d734c",
   "metadata": {},
   "source": [
    "Once a decision tree has been trained, its depth and number of leaves can be accessed with its `get_depth()` and `get_n_leaves()` methods. In addition, the full tree structure is stored in its `_tree` argument, which attributes you can find in the help as below, and contain its number of nodes."
   ]
  },
  {
   "cell_type": "code",
   "execution_count": null,
   "id": "patient-salem",
   "metadata": {},
   "outputs": [],
   "source": [
    "#help(tree._tree.Tree)"
   ]
  },
  {
   "cell_type": "markdown",
   "id": "1393e6ef-7e82-4f97-bd53-6dbaaff955a0",
   "metadata": {},
   "source": [
    "__(Optional) Instruction__ Complete the code below to compute, as a function of the number of samples in the data, the number of nodes of the tree as well as its depth."
   ]
  },
  {
   "cell_type": "code",
   "execution_count": null,
   "id": "typical-portrait",
   "metadata": {},
   "outputs": [],
   "source": [
    "tree_attributes = {} # key: number of subsamples, value: {nodes: number_of_nodes, depth: depth}\n",
    "for ssize in subsample_sizes:\n",
    "    X_current, y_current = subsample_data[ssize]\n",
    "    dt_classifier = tree.DecisionTreeClassifier() # default parameters\n",
    "    dt_classifier.fit(X_current, y_current)\n",
    "    tree_attributes[ssize] = # TO COMPLETE"
   ]
  },
  {
   "cell_type": "markdown",
   "id": "67aa0555-2704-40f1-b77b-15280ae76803",
   "metadata": {},
   "source": [
    "__(Optional) Questions:__\n",
    "Given the number of nodes in a tree, what depth do you expect the tree to be if it is \n",
    "* fully balanced?\n",
    "* fully unbalanced?\n",
    "\n",
    "Refer to the [document on decision tree complexity](http://cazencott.info/dotclear/public/lectures/Decision_Tree_Complexity.pdf) for help."
   ]
  },
  {
   "cell_type": "markdown",
   "id": "8f9e7faa-c696-48be-b363-0491e3b4f469",
   "metadata": {},
   "source": [
    "__(Optional) Instructions:__ Plot, as a function of the number of samples: \n",
    "* the observed tree depth \n",
    "* the expected tree depth for a fully balanced tree with the same number of nodes\n",
    "* the expected tree depth for a fully unbalanced tree with the same number of nodes"
   ]
  },
  {
   "cell_type": "markdown",
   "id": "bc39f4ba-5f95-424d-a172-cd9c12d86f8c",
   "metadata": {},
   "source": [
    "__(Optional) Question:__ Do you think the trees you trained are closer to balanced or to fully unbalanced?"
   ]
  }
 ],
 "metadata": {
  "kernelspec": {
   "display_name": "Python 3 (ipykernel)",
   "language": "python",
   "name": "python3"
  },
  "language_info": {
   "codemirror_mode": {
    "name": "ipython",
    "version": 3
   },
   "file_extension": ".py",
   "mimetype": "text/x-python",
   "name": "python",
   "nbconvert_exporter": "python",
   "pygments_lexer": "ipython3",
   "version": "3.9.12"
  }
 },
 "nbformat": 4,
 "nbformat_minor": 5
}
